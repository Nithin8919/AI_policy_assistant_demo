{
  "cells": [
    {
      "cell_type": "markdown",
      "metadata": {},
      "source": [
        "# Policy Intelligence Assistant - Demo Notebook\n",
        "\n",
        "This notebook demonstrates the complete pipeline for processing Andhra Pradesh education policy documents and building a knowledge graph with vector search capabilities.\n",
        "\n",
        "## Pipeline Overview\n",
        "1. **Document Ingestion**: Parse PDFs and extract text\n",
        "2. **NLP Processing**: Extract entities and relations\n",
        "3. **Knowledge Graph**: Build graph in Neo4j\n",
        "4. **Vector Database**: Create embeddings in Qdrant\n",
        "5. **Bridge Table**: Link graph nodes to vector chunks\n",
        "6. **Self-RAG Retrieval**: Intelligent Q&A system\n"
      ]
    },
    {
      "cell_type": "code",
      "execution_count": null,
      "metadata": {},
      "outputs": [],
      "source": [
        "# Import required libraries\n",
        "import sys\n",
        "import os\n",
        "from pathlib import Path\n",
        "import json\n",
        "import pandas as pd\n",
        "import matplotlib.pyplot as plt\n",
        "import seaborn as sns\n",
        "\n",
        "# Add project root to path\n",
        "project_root = Path.cwd().parent\n",
        "sys.path.append(str(project_root))\n",
        "\n",
        "# Import pipeline components\n",
        "from policy_intelligence.main_pipeline import PolicyIntelligencePipeline\n",
        "from policy_intelligence.config.settings import *\n",
        "\n",
        "print(\"Libraries imported successfully!\")\n"
      ]
    }
  ],
  "metadata": {
    "language_info": {
      "name": "python"
    }
  },
  "nbformat": 4,
  "nbformat_minor": 2
}
